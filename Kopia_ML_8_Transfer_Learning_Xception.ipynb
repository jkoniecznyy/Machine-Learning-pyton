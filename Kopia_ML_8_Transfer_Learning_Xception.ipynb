{
  "nbformat": 4,
  "nbformat_minor": 0,
  "metadata": {
    "accelerator": "GPU",
    "colab": {
      "name": "Kopia ML 8 - Transfer Learning Xception.ipynb",
      "provenance": [],
      "collapsed_sections": [],
      "include_colab_link": true
    },
    "kernelspec": {
      "display_name": "Python 3",
      "language": "python",
      "name": "python3"
    },
    "language_info": {
      "codemirror_mode": {
        "name": "ipython",
        "version": 3
      },
      "file_extension": ".py",
      "mimetype": "text/x-python",
      "name": "python",
      "nbconvert_exporter": "python",
      "pygments_lexer": "ipython3",
      "version": "3.7.6"
    }
  },
  "cells": [
    {
      "cell_type": "markdown",
      "metadata": {
        "id": "view-in-github",
        "colab_type": "text"
      },
      "source": [
        "<a href=\"https://colab.research.google.com/github/jkoniecznyy/Machine-Learning-pyton/blob/main/Kopia_ML_8_Transfer_Learning_Xception.ipynb\" target=\"_parent\"><img src=\"https://colab.research.google.com/assets/colab-badge.svg\" alt=\"Open In Colab\"/></a>"
      ]
    },
    {
      "cell_type": "markdown",
      "metadata": {
        "id": "lUyGdxQirnaA"
      },
      "source": [
        "# Transfer Learning\n",
        "This project should introduce you to transfer learning techniques. The checklist below shows the steps necessary to finish the project.\n",
        "- **Prepare a dataset**. The dataset shall be desined for image classification, and be organized to work with keras.applications (training, validation and test data should be in different folders. Images from one class should be in one subfolder). \n",
        "- **Select the network**. Select the network you want to work with. In the original code `Xception` network is selected, but you may change it if you want.\n",
        "- **Complete functions**. Complete missing code in the following functions\n",
        "    - `add_new_last_layer` - adds an output layer to your model. You may also add some layers in between. If so, remember to unfreeze these layers in `setup_to_transfer_learn` function\n",
        "    - `setup_to_transfer_learn` - Freezes all layers but the last one and compiles the model\n",
        "    - `setup_to_finetune` - Freezes the first not_trainable layers, and unfreezes the rest\n",
        "    - `train_generator` - Creates a generator feed with train dataset. You should add data augmentation to it\n",
        "- **Perorm training**. Perform model trainig slowly unfreezeng the layers as long as you do not observe overfitting. In case of overfitting get back to previous model.\n",
        "- **Test your model on real images**. Write a code that tests your model on real images. You should display an image, a real class of an image, the class selected by the model, and the probabilities assined by the model to all the classes."
      ]
    },
    {
      "cell_type": "code",
      "metadata": {
        "id": "fLtWaKgdxPWI"
      },
      "source": [
        "import os\n",
        "import sys\n",
        "import glob\n",
        "\n",
        "import numpy as np\n",
        "import pickle\n",
        "\n",
        "import matplotlib.pyplot as plt\n",
        "\n",
        "from tensorflow.keras.applications.xception import Xception, preprocess_input\n",
        "from tensorflow.keras.models import Model\n",
        "from tensorflow.keras.layers import Dense, GlobalAveragePooling2D\n",
        "from tensorflow.keras.preprocessing.image import ImageDataGenerator\n",
        "from tensorflow.keras.optimizers import Nadam\n",
        "\n",
        "%matplotlib inline"
      ],
      "execution_count": 3,
      "outputs": []
    },
    {
      "cell_type": "code",
      "metadata": {
        "id": "4dVAqoqSxD7q",
        "colab": {
          "base_uri": "https://localhost:8080/"
        },
        "outputId": "972a35e6-cae3-45ef-ab8d-f7d451aa18a3"
      },
      "source": [
        "# Run if you are using google drive\n",
        "from google.colab import drive\n",
        "drive.mount('/content/drive')"
      ],
      "execution_count": 4,
      "outputs": [
        {
          "output_type": "stream",
          "text": [
            "Mounted at /content/drive\n"
          ],
          "name": "stdout"
        }
      ]
    },
    {
      "cell_type": "code",
      "metadata": {
        "id": "xNospTanxyWV",
        "colab": {
          "base_uri": "https://localhost:8080/"
        },
        "outputId": "fb70944b-d1c6-4508-f329-96dac9baafe9"
      },
      "source": [
        "# Run to see how to access your google drive\n",
        "!ls \"/content/drive/My Drive/5semestr\""
      ],
      "execution_count": 5,
      "outputs": [
        {
          "output_type": "stream",
          "text": [
            "Algorytmy  BO  Licencjat  ML  oldcheckpoints  TLData\n"
          ],
          "name": "stdout"
        }
      ]
    },
    {
      "cell_type": "code",
      "metadata": {
        "id": "NDpbsBT2xPWL"
      },
      "source": [
        "# If you have more than 1 GPU and you want to train on the first one only\n",
        "# os.environ[\"CUDA_VISIBLE_DEVICES\"] = \"0\""
      ],
      "execution_count": 6,
      "outputs": []
    },
    {
      "cell_type": "code",
      "metadata": {
        "id": "csZ0XAgAxPWM"
      },
      "source": [
        "def get_nb_files(directory):\n",
        "    \"\"\"Get number of files by searching directory recursively\"\"\"\n",
        "    if not os.path.exists(directory):\n",
        "        print ('No directory')\n",
        "        return 0\n",
        "    cnt = 0\n",
        "    for r, dirs, files in os.walk(directory):\n",
        "        for dr in dirs:\n",
        "              cnt += len(glob.glob(os.path.join(r, dr + \"/*\")))\n",
        "    return cnt\n",
        "\n",
        "def add_new_last_layer(base_model, nb_classes):\n",
        "    \"\"\"Add last layer to the convnet\n",
        "    Arguments:\n",
        "        base_model: keras model (without a top layer)\n",
        "        nb_classes: number of classes\n",
        "    Returns:\n",
        "        new keras model with last layer\n",
        "    \"\"\"\n",
        "    x = base_model.output\n",
        "    x = GlobalAveragePooling2D()(x)\n",
        "    # Add the last layer and ((optionally) a dense layer\n",
        "    # ENTER YOUR CODE HERE \n",
        "    predictions = Dense(nb_classes, activation='softmax')(x)\n",
        "    #END OF YOUR CODE\n",
        "    model = Model(inputs=base_model.input, outputs=predictions)\n",
        "    return model\n",
        "\n",
        "\n",
        "\n",
        "def setup_to_transfer_learn(model, args):\n",
        "    \"\"\"Freezes all layers but the last one and compiles the model\"\"\"\n",
        "    \n",
        "    # TODO: Set all the layers but last one to not trainable.\n",
        "    # Note: If you added more than one layer in the add_new_last_layer \n",
        "    # function you should set all these layers to trainable.\n",
        "    #ENTER YOUR CODE HERE    \n",
        "    for layer in model.layers[:-1]:\n",
        "      layer.trainable=False\n",
        "    #END OF YOUR CODE\n",
        "\n",
        "    model.layers[-1].trainable=True\n",
        "    opt = Nadam(lr=args.lr)\n",
        "    model.compile(optimizer=opt, loss='categorical_crossentropy', metrics=['accuracy'])\n",
        "\n",
        "\n",
        "def setup_to_finetune(model, args, not_trainable):\n",
        "    \"\"\"Freezes the first not_trainable layers, and unfreezes the rest\n",
        "    Arguments:\n",
        "        model: keras model\n",
        "        not_trainable: number of not trainable layers\n",
        "    \"\"\"\n",
        "    \n",
        "    #Set the layers [0:not_trainable] to not trainable. Set the layers [not_trainable:] to trainable\n",
        "    #ENTER YOUR CODE HERE\n",
        "    for i in range(not_trainable):\n",
        "      model.layers[i].trainable=False\n",
        "      \n",
        "    for i in range(not_trainable, len(model.layers)):\n",
        "      model.layers[i].trainable=True\n",
        "    #END OF YOUR CODE\n",
        "\n",
        "    opt = Nadam(lr=args.lr)\n",
        "    model.compile(optimizer=opt, loss='categorical_crossentropy', metrics=['accuracy'])\n",
        "    \n",
        "def trainable_params(model, output_format = 'en_US'):\n",
        "    \"\"\"Computes the number of trainable parameters in the model.\n",
        "    Args:\n",
        "        model: keras model\n",
        "        output_format: (default: 'en_US')\n",
        "            'int'   - number of trainable parameters (12345)\n",
        "            'en_US' - number of trainable parameters formated to comma separated str ('12,235')\n",
        "    \"\"\"    \n",
        "    \n",
        "    def nr_to_string(number, separator = ','):\n",
        "        \"\"\"\n",
        "        Changes numbers to string.\n",
        "        \"\"\"\n",
        "        s = '%d' % number\n",
        "        groups = []\n",
        "        while s and s[-1].isdigit():\n",
        "            groups.append(s[-3:])\n",
        "            s = s[:-3]\n",
        "        return s + separator.join(reversed(groups))\n",
        "\n",
        "    # And the real trainable_params function\n",
        "    \n",
        "    ret = sum([np.prod(K.get_value(w).shape) for w in model.trainable_weights])\n",
        "    if output_format == 'en_US':\n",
        "        return nr_to_string(ret)\n",
        "    else:\n",
        "        return ret"
      ],
      "execution_count": 7,
      "outputs": []
    },
    {
      "cell_type": "markdown",
      "metadata": {
        "id": "p7ikt-GBxPWN"
      },
      "source": [
        "\n",
        "### Plot results"
      ]
    },
    {
      "cell_type": "code",
      "metadata": {
        "id": "Gcu0Gl27xPWN"
      },
      "source": [
        "def unpack_history(history, old_history = None):\n",
        "    if old_history is None:\n",
        "        new_history = {\n",
        "            'accuracy' : [],\n",
        "            'val_accuracy' : [],\n",
        "            'loss' : [],\n",
        "            'val_loss' : [],\n",
        "        }  \n",
        "    else:\n",
        "        new_history = old_history\n",
        "    new_history['accuracy'] += history.history['accuracy']\n",
        "    new_history['val_accuracy'] += history.history['val_accuracy']\n",
        "    new_history['loss'] += history.history['loss']\n",
        "    new_history['val_loss'] += history.history['val_loss']\n",
        "    return new_history\n",
        "\n",
        "def plot_history(training_history):\n",
        "    acc = training_history['accuracy']\n",
        "    val_acc = training_history['val_accuracy']\n",
        "    loss = training_history['loss']\n",
        "    val_loss = training_history['val_loss']\n",
        "    epochs = np.arange(len(acc)) + 1\n",
        "    \n",
        "    fig = plt.figure(figsize=(12, 4))\n",
        "\n",
        "    ax1 = fig.add_subplot(121)    \n",
        "    ax1.plot(epochs, loss, c='g', label='Train')\n",
        "    ax1.plot(epochs, val_loss, c='r', label='Valid')\n",
        "    ax1.set_title('Loss')\n",
        "    ax1.legend(loc='lower left');\n",
        "    ax1.grid(True)\n",
        "    \n",
        "    ax2 = fig.add_subplot(122)    \n",
        "    ax2.plot(epochs, acc, c='g', label='Train')\n",
        "    ax2.plot(epochs, val_acc, c='r', label='Valid')\n",
        "    ax2.set_title('Accuracy')\n",
        "    #ax2.legend(loc='upper left');\n",
        "    ax2.grid(True)\n",
        "        \n",
        "    plt.show()    \n",
        "\n",
        "\n",
        "def process_and_display(history, old_history = None):\n",
        "    new_history = unpack_history(history, old_history)\n",
        "    plot_history(new_history)\n",
        "    return new_history\n",
        "    \n",
        "    "
      ],
      "execution_count": 8,
      "outputs": []
    },
    {
      "cell_type": "markdown",
      "metadata": {
        "id": "DIYqpeLlxPWO"
      },
      "source": [
        "### Hyperparameters"
      ]
    },
    {
      "cell_type": "code",
      "metadata": {
        "id": "27_24vQMxPWO"
      },
      "source": [
        "class Args():\n",
        "    def __init__(self):\n",
        "        \n",
        "        self.im_width, self.im_height = 299, 299 #fixed size for Xception\n",
        "        self.lr = 0.001\n",
        "        self.batch_size = 32\n",
        "        \n",
        "        local_folder = '/content/drive/MyDrive/5semestr/TLData/'\n",
        "        self.train_dir = os.path.join(local_folder, 'train/')\n",
        "        self.valid_dir = os.path.join(local_folder, 'valid/')\n",
        "        self.test_dir = os.path.join(local_folder, 'test/')\n",
        "            \n",
        "args = Args()\n"
      ],
      "execution_count": 9,
      "outputs": []
    },
    {
      "cell_type": "markdown",
      "metadata": {
        "id": "PTivQAhmxPWO"
      },
      "source": [
        "### Prepare global variables"
      ]
    },
    {
      "cell_type": "code",
      "metadata": {
        "id": "eGeRrcsvxPWP",
        "colab": {
          "base_uri": "https://localhost:8080/"
        },
        "outputId": "4bc5aee1-5df5-463a-d687-786db0b2a247"
      },
      "source": [
        "nb_train_samples = get_nb_files(args.train_dir)\n",
        "classes = glob.glob(args.train_dir + \"/*\")\n",
        "classes = [x.split('/')[-1] for x in classes]\n",
        "classes.sort()\n",
        "nb_classes = len(classes)\n",
        "nb_valid_samples = get_nb_files(args.valid_dir)\n",
        "\n",
        "train_steps = int (nb_train_samples / args.batch_size)\n",
        "valid_steps = int (nb_valid_samples / args.batch_size)\n",
        "\n",
        "print ('Train dataset contains {} samples ({} steps / epoch)'.format(nb_train_samples, train_steps))\n",
        "print ('Valid dataset contains {} samples ({} steps / epoch)'.format(nb_valid_samples, valid_steps))\n",
        "print ('Dataset contains {} classes ({}).'.format(nb_classes, classes))\n"
      ],
      "execution_count": 10,
      "outputs": [
        {
          "output_type": "stream",
          "text": [
            "Train dataset contains 7248 samples (226 steps / epoch)\n",
            "Valid dataset contains 1391 samples (43 steps / epoch)\n",
            "Dataset contains 6 classes (['buildings', 'forest', 'glacier', 'mountain', 'sea', 'street']).\n"
          ],
          "name": "stdout"
        }
      ]
    },
    {
      "cell_type": "markdown",
      "metadata": {
        "id": "rRa5FjkHxPWP"
      },
      "source": [
        "### Generators"
      ]
    },
    {
      "cell_type": "code",
      "metadata": {
        "id": "B1fRcyIqxPWQ",
        "colab": {
          "base_uri": "https://localhost:8080/"
        },
        "outputId": "d094a396-9763-4f0d-a19b-cf5aaefbc30d"
      },
      "source": [
        "# add data augmentation to the generator\n",
        "train_datagen = ImageDataGenerator(\n",
        "    preprocessing_function=preprocess_input,\n",
        "    #ENTER YOUR CODE\n",
        "    rotation_range=20,\n",
        "    width_shift_range=0.2,\n",
        "    height_shift_range=0.2,\n",
        "    shear_range=0.2,\n",
        "    zoom_range=0.2,\n",
        "    horizontal_flip=True\n",
        "    #END OF YOUR CODE\n",
        ")\n",
        "\n",
        "test_datagen = ImageDataGenerator(\n",
        "    preprocessing_function=preprocess_input,\n",
        ")\n",
        "\n",
        "train_generator = train_datagen.flow_from_directory(\n",
        "    args.train_dir,\n",
        "    target_size=(args.im_width, args.im_height),\n",
        "    batch_size=args.batch_size,\n",
        ")\n",
        "\n",
        "validation_generator = test_datagen.flow_from_directory(\n",
        "    args.valid_dir,\n",
        "    target_size=(args.im_width, args.im_height),\n",
        "    batch_size=args.batch_size,\n",
        ")\n",
        "\n",
        "test_generator = test_datagen.flow_from_directory(\n",
        "    args.test_dir,\n",
        "    target_size=(args.im_width, args.im_height),\n",
        "    batch_size=args.batch_size\n",
        ")"
      ],
      "execution_count": 11,
      "outputs": [
        {
          "output_type": "stream",
          "text": [
            "Found 7248 images belonging to 6 classes.\n",
            "Found 1391 images belonging to 6 classes.\n",
            "Found 1584 images belonging to 6 classes.\n"
          ],
          "name": "stdout"
        }
      ]
    },
    {
      "cell_type": "markdown",
      "metadata": {
        "id": "aRfF5R9MxPWR"
      },
      "source": [
        "### Model"
      ]
    },
    {
      "cell_type": "code",
      "metadata": {
        "id": "8wiPWrBvxPWR",
        "colab": {
          "base_uri": "https://localhost:8080/"
        },
        "outputId": "adfd2efb-78d9-4c64-da74-b2199fc5c851"
      },
      "source": [
        "model = Xception(weights='imagenet', include_top=False)\n",
        "model = add_new_last_layer(model, nb_classes)\n",
        "\n",
        "model.summary()"
      ],
      "execution_count": 12,
      "outputs": [
        {
          "output_type": "stream",
          "text": [
            "Downloading data from https://storage.googleapis.com/tensorflow/keras-applications/xception/xception_weights_tf_dim_ordering_tf_kernels_notop.h5\n",
            "83689472/83683744 [==============================] - 1s 0us/step\n",
            "Model: \"model\"\n",
            "__________________________________________________________________________________________________\n",
            "Layer (type)                    Output Shape         Param #     Connected to                     \n",
            "==================================================================================================\n",
            "input_1 (InputLayer)            [(None, None, None,  0                                            \n",
            "__________________________________________________________________________________________________\n",
            "block1_conv1 (Conv2D)           (None, None, None, 3 864         input_1[0][0]                    \n",
            "__________________________________________________________________________________________________\n",
            "block1_conv1_bn (BatchNormaliza (None, None, None, 3 128         block1_conv1[0][0]               \n",
            "__________________________________________________________________________________________________\n",
            "block1_conv1_act (Activation)   (None, None, None, 3 0           block1_conv1_bn[0][0]            \n",
            "__________________________________________________________________________________________________\n",
            "block1_conv2 (Conv2D)           (None, None, None, 6 18432       block1_conv1_act[0][0]           \n",
            "__________________________________________________________________________________________________\n",
            "block1_conv2_bn (BatchNormaliza (None, None, None, 6 256         block1_conv2[0][0]               \n",
            "__________________________________________________________________________________________________\n",
            "block1_conv2_act (Activation)   (None, None, None, 6 0           block1_conv2_bn[0][0]            \n",
            "__________________________________________________________________________________________________\n",
            "block2_sepconv1 (SeparableConv2 (None, None, None, 1 8768        block1_conv2_act[0][0]           \n",
            "__________________________________________________________________________________________________\n",
            "block2_sepconv1_bn (BatchNormal (None, None, None, 1 512         block2_sepconv1[0][0]            \n",
            "__________________________________________________________________________________________________\n",
            "block2_sepconv2_act (Activation (None, None, None, 1 0           block2_sepconv1_bn[0][0]         \n",
            "__________________________________________________________________________________________________\n",
            "block2_sepconv2 (SeparableConv2 (None, None, None, 1 17536       block2_sepconv2_act[0][0]        \n",
            "__________________________________________________________________________________________________\n",
            "block2_sepconv2_bn (BatchNormal (None, None, None, 1 512         block2_sepconv2[0][0]            \n",
            "__________________________________________________________________________________________________\n",
            "conv2d (Conv2D)                 (None, None, None, 1 8192        block1_conv2_act[0][0]           \n",
            "__________________________________________________________________________________________________\n",
            "block2_pool (MaxPooling2D)      (None, None, None, 1 0           block2_sepconv2_bn[0][0]         \n",
            "__________________________________________________________________________________________________\n",
            "batch_normalization (BatchNorma (None, None, None, 1 512         conv2d[0][0]                     \n",
            "__________________________________________________________________________________________________\n",
            "add (Add)                       (None, None, None, 1 0           block2_pool[0][0]                \n",
            "                                                                 batch_normalization[0][0]        \n",
            "__________________________________________________________________________________________________\n",
            "block3_sepconv1_act (Activation (None, None, None, 1 0           add[0][0]                        \n",
            "__________________________________________________________________________________________________\n",
            "block3_sepconv1 (SeparableConv2 (None, None, None, 2 33920       block3_sepconv1_act[0][0]        \n",
            "__________________________________________________________________________________________________\n",
            "block3_sepconv1_bn (BatchNormal (None, None, None, 2 1024        block3_sepconv1[0][0]            \n",
            "__________________________________________________________________________________________________\n",
            "block3_sepconv2_act (Activation (None, None, None, 2 0           block3_sepconv1_bn[0][0]         \n",
            "__________________________________________________________________________________________________\n",
            "block3_sepconv2 (SeparableConv2 (None, None, None, 2 67840       block3_sepconv2_act[0][0]        \n",
            "__________________________________________________________________________________________________\n",
            "block3_sepconv2_bn (BatchNormal (None, None, None, 2 1024        block3_sepconv2[0][0]            \n",
            "__________________________________________________________________________________________________\n",
            "conv2d_1 (Conv2D)               (None, None, None, 2 32768       add[0][0]                        \n",
            "__________________________________________________________________________________________________\n",
            "block3_pool (MaxPooling2D)      (None, None, None, 2 0           block3_sepconv2_bn[0][0]         \n",
            "__________________________________________________________________________________________________\n",
            "batch_normalization_1 (BatchNor (None, None, None, 2 1024        conv2d_1[0][0]                   \n",
            "__________________________________________________________________________________________________\n",
            "add_1 (Add)                     (None, None, None, 2 0           block3_pool[0][0]                \n",
            "                                                                 batch_normalization_1[0][0]      \n",
            "__________________________________________________________________________________________________\n",
            "block4_sepconv1_act (Activation (None, None, None, 2 0           add_1[0][0]                      \n",
            "__________________________________________________________________________________________________\n",
            "block4_sepconv1 (SeparableConv2 (None, None, None, 7 188672      block4_sepconv1_act[0][0]        \n",
            "__________________________________________________________________________________________________\n",
            "block4_sepconv1_bn (BatchNormal (None, None, None, 7 2912        block4_sepconv1[0][0]            \n",
            "__________________________________________________________________________________________________\n",
            "block4_sepconv2_act (Activation (None, None, None, 7 0           block4_sepconv1_bn[0][0]         \n",
            "__________________________________________________________________________________________________\n",
            "block4_sepconv2 (SeparableConv2 (None, None, None, 7 536536      block4_sepconv2_act[0][0]        \n",
            "__________________________________________________________________________________________________\n",
            "block4_sepconv2_bn (BatchNormal (None, None, None, 7 2912        block4_sepconv2[0][0]            \n",
            "__________________________________________________________________________________________________\n",
            "conv2d_2 (Conv2D)               (None, None, None, 7 186368      add_1[0][0]                      \n",
            "__________________________________________________________________________________________________\n",
            "block4_pool (MaxPooling2D)      (None, None, None, 7 0           block4_sepconv2_bn[0][0]         \n",
            "__________________________________________________________________________________________________\n",
            "batch_normalization_2 (BatchNor (None, None, None, 7 2912        conv2d_2[0][0]                   \n",
            "__________________________________________________________________________________________________\n",
            "add_2 (Add)                     (None, None, None, 7 0           block4_pool[0][0]                \n",
            "                                                                 batch_normalization_2[0][0]      \n",
            "__________________________________________________________________________________________________\n",
            "block5_sepconv1_act (Activation (None, None, None, 7 0           add_2[0][0]                      \n",
            "__________________________________________________________________________________________________\n",
            "block5_sepconv1 (SeparableConv2 (None, None, None, 7 536536      block5_sepconv1_act[0][0]        \n",
            "__________________________________________________________________________________________________\n",
            "block5_sepconv1_bn (BatchNormal (None, None, None, 7 2912        block5_sepconv1[0][0]            \n",
            "__________________________________________________________________________________________________\n",
            "block5_sepconv2_act (Activation (None, None, None, 7 0           block5_sepconv1_bn[0][0]         \n",
            "__________________________________________________________________________________________________\n",
            "block5_sepconv2 (SeparableConv2 (None, None, None, 7 536536      block5_sepconv2_act[0][0]        \n",
            "__________________________________________________________________________________________________\n",
            "block5_sepconv2_bn (BatchNormal (None, None, None, 7 2912        block5_sepconv2[0][0]            \n",
            "__________________________________________________________________________________________________\n",
            "block5_sepconv3_act (Activation (None, None, None, 7 0           block5_sepconv2_bn[0][0]         \n",
            "__________________________________________________________________________________________________\n",
            "block5_sepconv3 (SeparableConv2 (None, None, None, 7 536536      block5_sepconv3_act[0][0]        \n",
            "__________________________________________________________________________________________________\n",
            "block5_sepconv3_bn (BatchNormal (None, None, None, 7 2912        block5_sepconv3[0][0]            \n",
            "__________________________________________________________________________________________________\n",
            "add_3 (Add)                     (None, None, None, 7 0           block5_sepconv3_bn[0][0]         \n",
            "                                                                 add_2[0][0]                      \n",
            "__________________________________________________________________________________________________\n",
            "block6_sepconv1_act (Activation (None, None, None, 7 0           add_3[0][0]                      \n",
            "__________________________________________________________________________________________________\n",
            "block6_sepconv1 (SeparableConv2 (None, None, None, 7 536536      block6_sepconv1_act[0][0]        \n",
            "__________________________________________________________________________________________________\n",
            "block6_sepconv1_bn (BatchNormal (None, None, None, 7 2912        block6_sepconv1[0][0]            \n",
            "__________________________________________________________________________________________________\n",
            "block6_sepconv2_act (Activation (None, None, None, 7 0           block6_sepconv1_bn[0][0]         \n",
            "__________________________________________________________________________________________________\n",
            "block6_sepconv2 (SeparableConv2 (None, None, None, 7 536536      block6_sepconv2_act[0][0]        \n",
            "__________________________________________________________________________________________________\n",
            "block6_sepconv2_bn (BatchNormal (None, None, None, 7 2912        block6_sepconv2[0][0]            \n",
            "__________________________________________________________________________________________________\n",
            "block6_sepconv3_act (Activation (None, None, None, 7 0           block6_sepconv2_bn[0][0]         \n",
            "__________________________________________________________________________________________________\n",
            "block6_sepconv3 (SeparableConv2 (None, None, None, 7 536536      block6_sepconv3_act[0][0]        \n",
            "__________________________________________________________________________________________________\n",
            "block6_sepconv3_bn (BatchNormal (None, None, None, 7 2912        block6_sepconv3[0][0]            \n",
            "__________________________________________________________________________________________________\n",
            "add_4 (Add)                     (None, None, None, 7 0           block6_sepconv3_bn[0][0]         \n",
            "                                                                 add_3[0][0]                      \n",
            "__________________________________________________________________________________________________\n",
            "block7_sepconv1_act (Activation (None, None, None, 7 0           add_4[0][0]                      \n",
            "__________________________________________________________________________________________________\n",
            "block7_sepconv1 (SeparableConv2 (None, None, None, 7 536536      block7_sepconv1_act[0][0]        \n",
            "__________________________________________________________________________________________________\n",
            "block7_sepconv1_bn (BatchNormal (None, None, None, 7 2912        block7_sepconv1[0][0]            \n",
            "__________________________________________________________________________________________________\n",
            "block7_sepconv2_act (Activation (None, None, None, 7 0           block7_sepconv1_bn[0][0]         \n",
            "__________________________________________________________________________________________________\n",
            "block7_sepconv2 (SeparableConv2 (None, None, None, 7 536536      block7_sepconv2_act[0][0]        \n",
            "__________________________________________________________________________________________________\n",
            "block7_sepconv2_bn (BatchNormal (None, None, None, 7 2912        block7_sepconv2[0][0]            \n",
            "__________________________________________________________________________________________________\n",
            "block7_sepconv3_act (Activation (None, None, None, 7 0           block7_sepconv2_bn[0][0]         \n",
            "__________________________________________________________________________________________________\n",
            "block7_sepconv3 (SeparableConv2 (None, None, None, 7 536536      block7_sepconv3_act[0][0]        \n",
            "__________________________________________________________________________________________________\n",
            "block7_sepconv3_bn (BatchNormal (None, None, None, 7 2912        block7_sepconv3[0][0]            \n",
            "__________________________________________________________________________________________________\n",
            "add_5 (Add)                     (None, None, None, 7 0           block7_sepconv3_bn[0][0]         \n",
            "                                                                 add_4[0][0]                      \n",
            "__________________________________________________________________________________________________\n",
            "block8_sepconv1_act (Activation (None, None, None, 7 0           add_5[0][0]                      \n",
            "__________________________________________________________________________________________________\n",
            "block8_sepconv1 (SeparableConv2 (None, None, None, 7 536536      block8_sepconv1_act[0][0]        \n",
            "__________________________________________________________________________________________________\n",
            "block8_sepconv1_bn (BatchNormal (None, None, None, 7 2912        block8_sepconv1[0][0]            \n",
            "__________________________________________________________________________________________________\n",
            "block8_sepconv2_act (Activation (None, None, None, 7 0           block8_sepconv1_bn[0][0]         \n",
            "__________________________________________________________________________________________________\n",
            "block8_sepconv2 (SeparableConv2 (None, None, None, 7 536536      block8_sepconv2_act[0][0]        \n",
            "__________________________________________________________________________________________________\n",
            "block8_sepconv2_bn (BatchNormal (None, None, None, 7 2912        block8_sepconv2[0][0]            \n",
            "__________________________________________________________________________________________________\n",
            "block8_sepconv3_act (Activation (None, None, None, 7 0           block8_sepconv2_bn[0][0]         \n",
            "__________________________________________________________________________________________________\n",
            "block8_sepconv3 (SeparableConv2 (None, None, None, 7 536536      block8_sepconv3_act[0][0]        \n",
            "__________________________________________________________________________________________________\n",
            "block8_sepconv3_bn (BatchNormal (None, None, None, 7 2912        block8_sepconv3[0][0]            \n",
            "__________________________________________________________________________________________________\n",
            "add_6 (Add)                     (None, None, None, 7 0           block8_sepconv3_bn[0][0]         \n",
            "                                                                 add_5[0][0]                      \n",
            "__________________________________________________________________________________________________\n",
            "block9_sepconv1_act (Activation (None, None, None, 7 0           add_6[0][0]                      \n",
            "__________________________________________________________________________________________________\n",
            "block9_sepconv1 (SeparableConv2 (None, None, None, 7 536536      block9_sepconv1_act[0][0]        \n",
            "__________________________________________________________________________________________________\n",
            "block9_sepconv1_bn (BatchNormal (None, None, None, 7 2912        block9_sepconv1[0][0]            \n",
            "__________________________________________________________________________________________________\n",
            "block9_sepconv2_act (Activation (None, None, None, 7 0           block9_sepconv1_bn[0][0]         \n",
            "__________________________________________________________________________________________________\n",
            "block9_sepconv2 (SeparableConv2 (None, None, None, 7 536536      block9_sepconv2_act[0][0]        \n",
            "__________________________________________________________________________________________________\n",
            "block9_sepconv2_bn (BatchNormal (None, None, None, 7 2912        block9_sepconv2[0][0]            \n",
            "__________________________________________________________________________________________________\n",
            "block9_sepconv3_act (Activation (None, None, None, 7 0           block9_sepconv2_bn[0][0]         \n",
            "__________________________________________________________________________________________________\n",
            "block9_sepconv3 (SeparableConv2 (None, None, None, 7 536536      block9_sepconv3_act[0][0]        \n",
            "__________________________________________________________________________________________________\n",
            "block9_sepconv3_bn (BatchNormal (None, None, None, 7 2912        block9_sepconv3[0][0]            \n",
            "__________________________________________________________________________________________________\n",
            "add_7 (Add)                     (None, None, None, 7 0           block9_sepconv3_bn[0][0]         \n",
            "                                                                 add_6[0][0]                      \n",
            "__________________________________________________________________________________________________\n",
            "block10_sepconv1_act (Activatio (None, None, None, 7 0           add_7[0][0]                      \n",
            "__________________________________________________________________________________________________\n",
            "block10_sepconv1 (SeparableConv (None, None, None, 7 536536      block10_sepconv1_act[0][0]       \n",
            "__________________________________________________________________________________________________\n",
            "block10_sepconv1_bn (BatchNorma (None, None, None, 7 2912        block10_sepconv1[0][0]           \n",
            "__________________________________________________________________________________________________\n",
            "block10_sepconv2_act (Activatio (None, None, None, 7 0           block10_sepconv1_bn[0][0]        \n",
            "__________________________________________________________________________________________________\n",
            "block10_sepconv2 (SeparableConv (None, None, None, 7 536536      block10_sepconv2_act[0][0]       \n",
            "__________________________________________________________________________________________________\n",
            "block10_sepconv2_bn (BatchNorma (None, None, None, 7 2912        block10_sepconv2[0][0]           \n",
            "__________________________________________________________________________________________________\n",
            "block10_sepconv3_act (Activatio (None, None, None, 7 0           block10_sepconv2_bn[0][0]        \n",
            "__________________________________________________________________________________________________\n",
            "block10_sepconv3 (SeparableConv (None, None, None, 7 536536      block10_sepconv3_act[0][0]       \n",
            "__________________________________________________________________________________________________\n",
            "block10_sepconv3_bn (BatchNorma (None, None, None, 7 2912        block10_sepconv3[0][0]           \n",
            "__________________________________________________________________________________________________\n",
            "add_8 (Add)                     (None, None, None, 7 0           block10_sepconv3_bn[0][0]        \n",
            "                                                                 add_7[0][0]                      \n",
            "__________________________________________________________________________________________________\n",
            "block11_sepconv1_act (Activatio (None, None, None, 7 0           add_8[0][0]                      \n",
            "__________________________________________________________________________________________________\n",
            "block11_sepconv1 (SeparableConv (None, None, None, 7 536536      block11_sepconv1_act[0][0]       \n",
            "__________________________________________________________________________________________________\n",
            "block11_sepconv1_bn (BatchNorma (None, None, None, 7 2912        block11_sepconv1[0][0]           \n",
            "__________________________________________________________________________________________________\n",
            "block11_sepconv2_act (Activatio (None, None, None, 7 0           block11_sepconv1_bn[0][0]        \n",
            "__________________________________________________________________________________________________\n",
            "block11_sepconv2 (SeparableConv (None, None, None, 7 536536      block11_sepconv2_act[0][0]       \n",
            "__________________________________________________________________________________________________\n",
            "block11_sepconv2_bn (BatchNorma (None, None, None, 7 2912        block11_sepconv2[0][0]           \n",
            "__________________________________________________________________________________________________\n",
            "block11_sepconv3_act (Activatio (None, None, None, 7 0           block11_sepconv2_bn[0][0]        \n",
            "__________________________________________________________________________________________________\n",
            "block11_sepconv3 (SeparableConv (None, None, None, 7 536536      block11_sepconv3_act[0][0]       \n",
            "__________________________________________________________________________________________________\n",
            "block11_sepconv3_bn (BatchNorma (None, None, None, 7 2912        block11_sepconv3[0][0]           \n",
            "__________________________________________________________________________________________________\n",
            "add_9 (Add)                     (None, None, None, 7 0           block11_sepconv3_bn[0][0]        \n",
            "                                                                 add_8[0][0]                      \n",
            "__________________________________________________________________________________________________\n",
            "block12_sepconv1_act (Activatio (None, None, None, 7 0           add_9[0][0]                      \n",
            "__________________________________________________________________________________________________\n",
            "block12_sepconv1 (SeparableConv (None, None, None, 7 536536      block12_sepconv1_act[0][0]       \n",
            "__________________________________________________________________________________________________\n",
            "block12_sepconv1_bn (BatchNorma (None, None, None, 7 2912        block12_sepconv1[0][0]           \n",
            "__________________________________________________________________________________________________\n",
            "block12_sepconv2_act (Activatio (None, None, None, 7 0           block12_sepconv1_bn[0][0]        \n",
            "__________________________________________________________________________________________________\n",
            "block12_sepconv2 (SeparableConv (None, None, None, 7 536536      block12_sepconv2_act[0][0]       \n",
            "__________________________________________________________________________________________________\n",
            "block12_sepconv2_bn (BatchNorma (None, None, None, 7 2912        block12_sepconv2[0][0]           \n",
            "__________________________________________________________________________________________________\n",
            "block12_sepconv3_act (Activatio (None, None, None, 7 0           block12_sepconv2_bn[0][0]        \n",
            "__________________________________________________________________________________________________\n",
            "block12_sepconv3 (SeparableConv (None, None, None, 7 536536      block12_sepconv3_act[0][0]       \n",
            "__________________________________________________________________________________________________\n",
            "block12_sepconv3_bn (BatchNorma (None, None, None, 7 2912        block12_sepconv3[0][0]           \n",
            "__________________________________________________________________________________________________\n",
            "add_10 (Add)                    (None, None, None, 7 0           block12_sepconv3_bn[0][0]        \n",
            "                                                                 add_9[0][0]                      \n",
            "__________________________________________________________________________________________________\n",
            "block13_sepconv1_act (Activatio (None, None, None, 7 0           add_10[0][0]                     \n",
            "__________________________________________________________________________________________________\n",
            "block13_sepconv1 (SeparableConv (None, None, None, 7 536536      block13_sepconv1_act[0][0]       \n",
            "__________________________________________________________________________________________________\n",
            "block13_sepconv1_bn (BatchNorma (None, None, None, 7 2912        block13_sepconv1[0][0]           \n",
            "__________________________________________________________________________________________________\n",
            "block13_sepconv2_act (Activatio (None, None, None, 7 0           block13_sepconv1_bn[0][0]        \n",
            "__________________________________________________________________________________________________\n",
            "block13_sepconv2 (SeparableConv (None, None, None, 1 752024      block13_sepconv2_act[0][0]       \n",
            "__________________________________________________________________________________________________\n",
            "block13_sepconv2_bn (BatchNorma (None, None, None, 1 4096        block13_sepconv2[0][0]           \n",
            "__________________________________________________________________________________________________\n",
            "conv2d_3 (Conv2D)               (None, None, None, 1 745472      add_10[0][0]                     \n",
            "__________________________________________________________________________________________________\n",
            "block13_pool (MaxPooling2D)     (None, None, None, 1 0           block13_sepconv2_bn[0][0]        \n",
            "__________________________________________________________________________________________________\n",
            "batch_normalization_3 (BatchNor (None, None, None, 1 4096        conv2d_3[0][0]                   \n",
            "__________________________________________________________________________________________________\n",
            "add_11 (Add)                    (None, None, None, 1 0           block13_pool[0][0]               \n",
            "                                                                 batch_normalization_3[0][0]      \n",
            "__________________________________________________________________________________________________\n",
            "block14_sepconv1 (SeparableConv (None, None, None, 1 1582080     add_11[0][0]                     \n",
            "__________________________________________________________________________________________________\n",
            "block14_sepconv1_bn (BatchNorma (None, None, None, 1 6144        block14_sepconv1[0][0]           \n",
            "__________________________________________________________________________________________________\n",
            "block14_sepconv1_act (Activatio (None, None, None, 1 0           block14_sepconv1_bn[0][0]        \n",
            "__________________________________________________________________________________________________\n",
            "block14_sepconv2 (SeparableConv (None, None, None, 2 3159552     block14_sepconv1_act[0][0]       \n",
            "__________________________________________________________________________________________________\n",
            "block14_sepconv2_bn (BatchNorma (None, None, None, 2 8192        block14_sepconv2[0][0]           \n",
            "__________________________________________________________________________________________________\n",
            "block14_sepconv2_act (Activatio (None, None, None, 2 0           block14_sepconv2_bn[0][0]        \n",
            "__________________________________________________________________________________________________\n",
            "global_average_pooling2d (Globa (None, 2048)         0           block14_sepconv2_act[0][0]       \n",
            "__________________________________________________________________________________________________\n",
            "dense (Dense)                   (None, 6)            12294       global_average_pooling2d[0][0]   \n",
            "==================================================================================================\n",
            "Total params: 20,873,774\n",
            "Trainable params: 20,819,246\n",
            "Non-trainable params: 54,528\n",
            "__________________________________________________________________________________________________\n"
          ],
          "name": "stdout"
        }
      ]
    },
    {
      "cell_type": "markdown",
      "metadata": {
        "id": "yRMl52NsxPWR"
      },
      "source": [
        "## Training\n",
        "\n",
        "### TODO: Perform training (transfer learning and fine tuning) to get the best results you can.\n"
      ]
    },
    {
      "cell_type": "code",
      "metadata": {
        "id": "8lPnV3sL7-c9"
      },
      "source": [
        "#import tensorflow as tf\r\n",
        "#tf.test.gpu_device_name()"
      ],
      "execution_count": 13,
      "outputs": []
    },
    {
      "cell_type": "markdown",
      "metadata": {
        "id": "QX41-YUPxPWS"
      },
      "source": [
        "### Transfer learning"
      ]
    },
    {
      "cell_type": "code",
      "metadata": {
        "id": "v1FHTyr9xPWS",
        "colab": {
          "base_uri": "https://localhost:8080/"
        },
        "outputId": "ad426cd1-adb5-489f-ada2-b773618f2ff8"
      },
      "source": [
        "setup_to_transfer_learn(model, args)\n",
        "\n",
        "history = model.fit(\n",
        "    train_generator,\n",
        "    steps_per_epoch = train_steps,\n",
        "    epochs = 5,\n",
        "    validation_data=validation_generator,\n",
        "    validation_steps = valid_steps,\n",
        ")"
      ],
      "execution_count": 14,
      "outputs": [
        {
          "output_type": "stream",
          "text": [
            "Epoch 1/5\n",
            "226/226 [==============================] - 2737s 12s/step - loss: 0.9097 - accuracy: 0.7335 - val_loss: 0.3225 - val_accuracy: 0.8859\n",
            "Epoch 2/5\n",
            "226/226 [==============================] - 164s 724ms/step - loss: 0.3397 - accuracy: 0.8785 - val_loss: 0.2613 - val_accuracy: 0.9121\n",
            "Epoch 3/5\n",
            "226/226 [==============================] - 164s 724ms/step - loss: 0.3039 - accuracy: 0.8926 - val_loss: 0.2507 - val_accuracy: 0.9150\n",
            "Epoch 4/5\n",
            "226/226 [==============================] - 165s 728ms/step - loss: 0.2930 - accuracy: 0.8912 - val_loss: 0.2476 - val_accuracy: 0.9150\n",
            "Epoch 5/5\n",
            "226/226 [==============================] - 164s 727ms/step - loss: 0.2541 - accuracy: 0.9074 - val_loss: 0.2310 - val_accuracy: 0.9244\n"
          ],
          "name": "stdout"
        }
      ]
    },
    {
      "cell_type": "code",
      "metadata": {
        "id": "zpu6LGaOrnaT",
        "colab": {
          "base_uri": "https://localhost:8080/",
          "height": 281
        },
        "outputId": "63d278cd-c956-49ed-f66d-41c58a9f7dd3"
      },
      "source": [
        "tl_history = process_and_display(history)\n",
        "model.save_weights('/content/drive/MyDrive/5semestr/TLData/checkpoints/opera/transfer_learning5epochs')"
      ],
      "execution_count": 15,
      "outputs": [
        {
          "output_type": "display_data",
          "data": {
            "image/png": "[encoded data removed]",
            "text/plain": [
              "<Figure size 864x288 with 2 Axes>"
            ]
          },
          "metadata": {
            "tags": [],
            "needs_background": "light"
          }
        }
      ]
    },
    {
      "cell_type": "markdown",
      "metadata": {
        "id": "dJYC8E99xPWS"
      },
      "source": [
        "### Fine tuning"
      ]
    },
    {
      "cell_type": "code",
      "metadata": {
        "id": "FC55raTpxPWT",
        "colab": {
          "base_uri": "https://localhost:8080/",
          "height": 35
        },
        "outputId": "5c7a5cb1-7faa-4b8a-8ef3-a41597396976"
      },
      "source": [
        "model.layers[126].get_config()['name']"
      ],
      "execution_count": null,
      "outputs": [
        {
          "output_type": "execute_result",
          "data": {
            "application/vnd.google.colaboratory.intrinsic+json": {
              "type": "string"
            },
            "text/plain": [
              "'block14_sepconv1'"
            ]
          },
          "metadata": {
            "tags": []
          },
          "execution_count": 17
        }
      ]
    },
    {
      "cell_type": "code",
      "metadata": {
        "id": "JETkzkH0xPWT",
        "colab": {
          "base_uri": "https://localhost:8080/"
        },
        "outputId": "535aa89c-cd1e-4d3e-cbba-a7205cb536f2"
      },
      "source": [
        "setup_to_finetune(model, args, not_trainable=126)\n",
        "\n",
        "history = model.fit(\n",
        "    train_generator,\n",
        "    steps_per_epoch = train_steps,\n",
        "    epochs = 2,\n",
        "    validation_data=validation_generator,\n",
        "    validation_steps = valid_steps,\n",
        ")"
      ],
      "execution_count": null,
      "outputs": [
        {
          "output_type": "stream",
          "text": [
            "Epoch 1/2\n",
            "226/226 [==============================] - 169s 734ms/step - loss: 0.3685 - accuracy: 0.8638 - val_loss: 0.2247 - val_accuracy: 0.9310\n",
            "Epoch 2/2\n",
            "226/226 [==============================] - 165s 732ms/step - loss: 0.2118 - accuracy: 0.9316 - val_loss: 0.2337 - val_accuracy: 0.9281\n"
          ],
          "name": "stdout"
        }
      ]
    },
    {
      "cell_type": "code",
      "metadata": {
        "id": "8K1TI2k1rnaV",
        "colab": {
          "base_uri": "https://localhost:8080/",
          "height": 281
        },
        "outputId": "a12cd494-80f2-4eed-b43c-df54d5ed5493"
      },
      "source": [
        "ft126_history = process_and_display(history, tl_history)\n",
        "model.save_weights('/content/drive/MyDrive/5semestr/TLData/checkpoints/opera/fine_tuning_126')"
      ],
      "execution_count": null,
      "outputs": [
        {
          "output_type": "display_data",
          "data": {
            "image/png": "[encoded data removed]",
            "text/plain": [
              "<Figure size 864x288 with 2 Axes>"
            ]
          },
          "metadata": {
            "tags": [],
            "needs_background": "light"
          }
        }
      ]
    },
    {
      "cell_type": "markdown",
      "metadata": {
        "id": "N3JUID9ZrnaW"
      },
      "source": [
        "**You should continue unfreezeng the layers and training the model until the model overfits. Feel free to add as many code cells as you wish**."
      ]
    },
    {
      "cell_type": "code",
      "metadata": {
        "id": "dGNBazMfrnaW",
        "colab": {
          "base_uri": "https://localhost:8080/",
          "height": 35
        },
        "outputId": "004b5c82-4fdd-474e-ccd0-cd9f42b4022c"
      },
      "source": [
        "model.layers[116].get_config()['name']"
      ],
      "execution_count": null,
      "outputs": [
        {
          "output_type": "execute_result",
          "data": {
            "application/vnd.google.colaboratory.intrinsic+json": {
              "type": "string"
            },
            "text/plain": [
              "'block13_sepconv1_act'"
            ]
          },
          "metadata": {
            "tags": []
          },
          "execution_count": 21
        }
      ]
    },
    {
      "cell_type": "code",
      "metadata": {
        "id": "FEDy5bHmrnaW",
        "colab": {
          "base_uri": "https://localhost:8080/"
        },
        "outputId": "4b252e4d-ca26-4ff7-e72c-cd9b81b22e85"
      },
      "source": [
        "setup_to_finetune(model, args, not_trainable=110)\r\n",
        "\r\n",
        "history = model.fit(\r\n",
        "    train_generator,\r\n",
        "    steps_per_epoch = train_steps,\r\n",
        "    epochs = 2,\r\n",
        "    validation_data=validation_generator,\r\n",
        "    validation_steps = valid_steps,\r\n",
        ")"
      ],
      "execution_count": null,
      "outputs": [
        {
          "output_type": "stream",
          "text": [
            "Epoch 1/2\n",
            "226/226 [==============================] - 177s 769ms/step - loss: 0.2784 - accuracy: 0.9018 - val_loss: 0.2468 - val_accuracy: 0.9281\n",
            "Epoch 2/2\n",
            "226/226 [==============================] - 172s 761ms/step - loss: 0.2273 - accuracy: 0.9210 - val_loss: 0.2460 - val_accuracy: 0.9302\n"
          ],
          "name": "stdout"
        }
      ]
    },
    {
      "cell_type": "code",
      "metadata": {
        "id": "VeFJEiQNrnaW",
        "colab": {
          "base_uri": "https://localhost:8080/",
          "height": 281
        },
        "outputId": "5b394eed-ccb3-43bf-bd34-4b5beffa5898"
      },
      "source": [
        "ft116_history = process_and_display(history, ft126_history)\r\n",
        "model.save_weights('/content/drive/MyDrive/5semestr/TLData/checkpoints/opera/fine_tuning_116')"
      ],
      "execution_count": null,
      "outputs": [
        {
          "output_type": "display_data",
          "data": {
            "image/png": "[encoded data removed]",
            "text/plain": [
              "<Figure size 864x288 with 2 Axes>"
            ]
          },
          "metadata": {
            "tags": [],
            "needs_background": "light"
          }
        }
      ]
    },
    {
      "cell_type": "code",
      "metadata": {
        "id": "Ld6w_L5PrnaX",
        "colab": {
          "base_uri": "https://localhost:8080/",
          "height": 35
        },
        "outputId": "75379180-c407-4224-e71f-27f33ba5f523"
      },
      "source": [
        "model.layers[96].get_config()['name']"
      ],
      "execution_count": null,
      "outputs": [
        {
          "output_type": "execute_result",
          "data": {
            "application/vnd.google.colaboratory.intrinsic+json": {
              "type": "string"
            },
            "text/plain": [
              "'block11_sepconv1_act'"
            ]
          },
          "metadata": {
            "tags": []
          },
          "execution_count": 26
        }
      ]
    },
    {
      "cell_type": "code",
      "metadata": {
        "id": "YIAmQiUQrnaX",
        "colab": {
          "base_uri": "https://localhost:8080/"
        },
        "outputId": "2c033a09-6b2e-4831-cc11-8e6cf1a1e870"
      },
      "source": [
        "setup_to_finetune(model, args, not_trainable=96)\r\n",
        "\r\n",
        "istory = model.fit(\r\n",
        "   train_generator,\r\n",
        "    steps_per_epoch = train_steps,\r\n",
        "    epochs = 2,\r\n",
        "    validation_data=validation_generator,\r\n",
        "    validation_steps = valid_steps,\r\n",
        ")"
      ],
      "execution_count": null,
      "outputs": [
        {
          "output_type": "stream",
          "text": [
            "Epoch 1/2\n",
            "226/226 [==============================] - 183s 791ms/step - loss: 0.2183 - accuracy: 0.9232 - val_loss: 0.2517 - val_accuracy: 0.9281\n",
            "Epoch 2/2\n",
            "226/226 [==============================] - 177s 781ms/step - loss: 0.1704 - accuracy: 0.9384 - val_loss: 0.2165 - val_accuracy: 0.9244\n"
          ],
          "name": "stdout"
        }
      ]
    },
    {
      "cell_type": "code",
      "metadata": {
        "id": "s_eZ8d71DBTC",
        "colab": {
          "base_uri": "https://localhost:8080/",
          "height": 281
        },
        "outputId": "ac078c37-7bbc-4237-a099-2968de74955a"
      },
      "source": [
        "ft96_history = process_and_display(history, ft116_history)\r\n",
        "model.save_weights('/content/drive/MyDrive/5semestr/TLData/checkpoints/opera/fine_tuning_96')"
      ],
      "execution_count": null,
      "outputs": [
        {
          "output_type": "display_data",
          "data": {
            "image/png": "[encoded data removed]",
            "text/plain": [
              "<Figure size 864x288 with 2 Axes>"
            ]
          },
          "metadata": {
            "tags": [],
            "needs_background": "light"
          }
        }
      ]
    },
    {
      "cell_type": "markdown",
      "metadata": {
        "id": "HuPWbYlYxPWT"
      },
      "source": [
        "# Save the final model"
      ]
    },
    {
      "cell_type": "code",
      "metadata": {
        "id": "0Hl0_G2UxPWT",
        "colab": {
          "base_uri": "https://localhost:8080/"
        },
        "outputId": "718ef016-c9b2-48a3-f6ec-142e857e378e"
      },
      "source": [
        "model.load_weights('/content/drive/MyDrive/5semestr/TLData/checkpoints/opera/fine_tuning_126')\n",
        "model.save('/content/drive/MyDrive/5semestr/TLData/checkpoints/opera/final')"
      ],
      "execution_count": null,
      "outputs": [
        {
          "output_type": "stream",
          "text": [
            "INFO:tensorflow:Assets written to: /content/drive/MyDrive/5semestr/TLData/checkpoints/opera/final/assets\n"
          ],
          "name": "stdout"
        }
      ]
    },
    {
      "cell_type": "markdown",
      "metadata": {
        "id": "0U6BCXTexPWU"
      },
      "source": [
        "# TEST SCORES"
      ]
    },
    {
      "cell_type": "code",
      "metadata": {
        "id": "Xy3Kb8iWxPWU"
      },
      "source": [
        "from tensorflow.keras.models import load_model\n",
        "model = load_model('/content/drive/MyDrive/5semestr/TLData/checkpoints/opera/final')"
      ],
      "execution_count": null,
      "outputs": []
    },
    {
      "cell_type": "code",
      "metadata": {
        "id": "9k0PsqySKYDK"
      },
      "source": [
        "#old checkpoints\r\n",
        "#from tensorflow.keras.models import load_model\r\n",
        "#model.load_weights('/content/drive/MyDrive/5semestr/oldcheckpoints/transfer_learning')"
      ],
      "execution_count": null,
      "outputs": []
    },
    {
      "cell_type": "code",
      "metadata": {
        "id": "deicCzzuxPWU",
        "colab": {
          "base_uri": "https://localhost:8080/"
        },
        "outputId": "f13a009e-060a-4c19-9cf4-037d0cd85ac6"
      },
      "source": [
        "nb_test_samples = get_nb_files(args.test_dir)\n",
        "test_steps = int (nb_test_samples / args.batch_size)\n",
        "model.evaluate(test_generator, steps=test_steps)"
      ],
      "execution_count": null,
      "outputs": [
        {
          "output_type": "stream",
          "text": [
            "49/49 [==============================] - 318s 7s/step - loss: 0.1973 - accuracy: 0.9260\n"
          ],
          "name": "stdout"
        },
        {
          "output_type": "execute_result",
          "data": {
            "text/plain": [
              "[0.19732962548732758, 0.9260203838348389]"
            ]
          },
          "metadata": {
            "tags": []
          },
          "execution_count": 31
        }
      ]
    },
    {
      "cell_type": "markdown",
      "metadata": {
        "id": "IBm6F5edxPWU"
      },
      "source": [
        "# TO DO\n",
        "Show examples how your model works with real images. \n",
        "Try to display:\n",
        "- An image\n",
        "- Real class of an image\n",
        "- Estimated class of an image\n",
        "- Probabilities"
      ]
    },
    {
      "cell_type": "code",
      "metadata": {
        "id": "vo7TGei1zJyE"
      },
      "source": [
        "!ls \"/content/drive/MyDrive/5semestr/TLData/manualTesting/\""
      ],
      "execution_count": null,
      "outputs": []
    },
    {
      "cell_type": "code",
      "metadata": {
        "id": "LcA-f_j9rnaY"
      },
      "source": [
        "import tensorflow as tf"
      ],
      "execution_count": null,
      "outputs": []
    },
    {
      "cell_type": "code",
      "metadata": {
        "id": "v0myFZTxPPTz"
      },
      "source": [
        "def testTheModel(filePath, model, classes, realclass = 'unknown'):\r\n",
        "  print('hi')"
      ],
      "execution_count": null,
      "outputs": []
    },
    {
      "cell_type": "code",
      "metadata": {
        "id": "U9URmJESLdb_",
        "colab": {
          "base_uri": "https://localhost:8080/"
        },
        "outputId": "da1e2262-0354-4dda-ea85-b526c69a02d9"
      },
      "source": [
        "testTheModel(\"/content/drive/MyDrive/5semestr/TLData/manualTesting/689.jpg\", model,classes)"
      ],
      "execution_count": null,
      "outputs": [
        {
          "output_type": "stream",
          "text": [
            "hi\n"
          ],
          "name": "stdout"
        }
      ]
    },
    {
      "cell_type": "code",
      "metadata": {
        "id": "tPoyeZzCLmKY"
      },
      "source": [
        "testTheModel(\"/content/drive/MyDrive/5semestr/TLData/manualTesting/691.jpg\", model,classes)"
      ],
      "execution_count": null,
      "outputs": []
    },
    {
      "cell_type": "code",
      "metadata": {
        "id": "-YVs2geRLpS-"
      },
      "source": [
        "testTheModel(\"/content/drive/MyDrive/5semestr/TLData/manualTesting/692.jpg\", model,classes)"
      ],
      "execution_count": null,
      "outputs": []
    },
    {
      "cell_type": "code",
      "metadata": {
        "id": "s66qvpyIL12w"
      },
      "source": [
        "testTheModel(\"/content/drive/MyDrive/5semestr/TLData/manualTesting/mikolow.jpg\", model,classes)"
      ],
      "execution_count": null,
      "outputs": []
    },
    {
      "cell_type": "code",
      "metadata": {
        "id": "5RRZdscALpQD"
      },
      "source": [
        "testTheModel(\"/content/drive/MyDrive/5semestr/TLData/manualTesting/baltyk.jpg\", model,classes)"
      ],
      "execution_count": null,
      "outputs": []
    },
    {
      "cell_type": "code",
      "metadata": {
        "id": "Ob4eyVoxLpNE"
      },
      "source": [
        "testTheModel(\"/content/drive/MyDrive/5semestr/TLData/manualTesting/bialowieska1.jpg\", model,classes)"
      ],
      "execution_count": null,
      "outputs": []
    },
    {
      "cell_type": "code",
      "metadata": {
        "id": "IHXA5409Lo8D"
      },
      "source": [
        "testTheModel(\"/content/drive/MyDrive/5semestr/TLData/manualTesting/bialowieska2.jpg\", model,classes)"
      ],
      "execution_count": null,
      "outputs": []
    },
    {
      "cell_type": "code",
      "metadata": {
        "id": "qDrXQv7DLo13"
      },
      "source": [
        "testTheModel(\"/content/drive/MyDrive/5semestr/TLData/manualTesting/corsa.jpg\", model,classes)"
      ],
      "execution_count": null,
      "outputs": []
    },
    {
      "cell_type": "code",
      "metadata": {
        "id": "mFXFtgsqLw-n"
      },
      "source": [
        "testTheModel(\"/content/drive/MyDrive/5semestr/TLData/manualTesting/ja.jpg\", model,classes)"
      ],
      "execution_count": null,
      "outputs": []
    },
    {
      "cell_type": "code",
      "metadata": {
        "id": "8bY2cc5RLy9z"
      },
      "source": [
        "testTheModel(\"/content/drive/MyDrive/5semestr/TLData/manualTesting/kajak.jpg\", model,classes)"
      ],
      "execution_count": null,
      "outputs": []
    },
    {
      "cell_type": "code",
      "metadata": {
        "id": "ZjT2dTXzL0ln"
      },
      "source": [
        "testTheModel(\"/content/drive/MyDrive/5semestr/TLData/manualTesting/kot.jpg\", model,classes)"
      ],
      "execution_count": null,
      "outputs": []
    },
    {
      "cell_type": "code",
      "metadata": {
        "id": "GC35O_OjL44w"
      },
      "source": [
        "testTheModel(\"/content/drive/MyDrive/5semestr/TLData/manualTesting/pies.jpg\", model,classes)"
      ],
      "execution_count": null,
      "outputs": []
    }
  ]
}